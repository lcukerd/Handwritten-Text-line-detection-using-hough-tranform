{
 "cells": [
  {
   "cell_type": "markdown",
   "metadata": {},
   "source": [
    "n1 = 5, n2 = 9 th = 0.95Find components and calc avg height of components, assume it equal to avg character width.\n",
    "Divide components into 3 subsets based on simple conditions\n",
    "\n",
    "Divide subset1 components into blocks of width aw and find their centroid. \n",
    "Perform Hough transform on this with given parameters.\n",
    "Find cell with max contri and assign all points +- 0.5p away from it. \n",
    "If more than half points of cc belong to its contri then that cc belongs there\n",
    "Remove all contri from cc that has been assigned a line and repeat step unless max contri cell < n1\n",
    "Calculate dominat skew angle, apply 2 degree deviation on cell later\n",
    "\n",
    "Merging Technique on hough lines\n"
   ]
  }
 ],
 "metadata": {
  "kernelspec": {
   "display_name": "Python 3",
   "language": "python",
   "name": "python3"
  },
  "language_info": {
   "codemirror_mode": {
    "name": "ipython",
    "version": 3
   },
   "file_extension": ".py",
   "mimetype": "text/x-python",
   "name": "python",
   "nbconvert_exporter": "python",
   "pygments_lexer": "ipython3",
   "version": "3.7.4"
  }
 },
 "nbformat": 4,
 "nbformat_minor": 2
}
